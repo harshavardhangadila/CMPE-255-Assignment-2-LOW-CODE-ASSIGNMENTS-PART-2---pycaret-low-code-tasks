{
  "nbformat": 4,
  "nbformat_minor": 0,
  "metadata": {
    "colab": {
      "provenance": [],
      "authorship_tag": "ABX9TyMdwmlEJir//LVVrFTIawUY",
      "include_colab_link": true
    },
    "kernelspec": {
      "name": "python3",
      "display_name": "Python 3"
    },
    "language_info": {
      "name": "python"
    }
  },
  "cells": [
    {
      "cell_type": "markdown",
      "metadata": {
        "id": "view-in-github",
        "colab_type": "text"
      },
      "source": [
        "<a href=\"https://colab.research.google.com/github/hvr2026/CMPE-255-Assignment-2-LOW-CODE-ASSIGNMENTS-PART-2---pycaret-low-code-tasks/blob/main/datasets_generator_for_synthetic_wine_quality_binned_csv_.ipynb\" target=\"_parent\"><img src=\"https://colab.research.google.com/assets/colab-badge.svg\" alt=\"Open In Colab\"/></a>"
      ]
    },
    {
      "cell_type": "code",
      "execution_count": 22,
      "metadata": {
        "colab": {
          "base_uri": "https://localhost:8080/"
        },
        "id": "cMjMjGH8GWK9",
        "outputId": "924ff62d-bafd-42c6-cc1d-a0368bc37d06"
      },
      "outputs": [
        {
          "output_type": "stream",
          "name": "stdout",
          "text": [
            "quality\n",
            "4    1950\n",
            "3      31\n",
            "2      13\n",
            "1       4\n",
            "0       2\n",
            "Name: count, dtype: int64\n",
            "   fixed_acidity  volatile_acidity  citric_acid  residual_sugar  chlorides  \\\n",
            "0      12.259557          0.701330     0.020552        3.190984   0.059025   \n",
            "1       9.522179          0.063171     0.402676        4.645010   0.032037   \n",
            "2      13.995746          1.176356     0.043064        9.951078   0.047808   \n",
            "3      14.123633          1.198437     0.482596        7.340443   0.048805   \n",
            "4      13.980543          1.378994     0.274073        8.031616   0.059838   \n",
            "\n",
            "   free_sulfur_dioxide  total_sulfur_dioxide   density        pH  sulphates  \\\n",
            "0            43.611198            163.080110  0.992304  3.510111   1.629967   \n",
            "1            32.406960             31.042216  1.002056  3.349997   1.428223   \n",
            "2            35.617432             57.221840  0.996506  3.324375   1.839757   \n",
            "3            46.612834             58.908134  1.003307  3.365472   0.493045   \n",
            "4            48.028289            110.227759  0.992942  3.754778   1.122334   \n",
            "\n",
            "     alcohol  quality  \n",
            "0  11.735372        4  \n",
            "1  14.953917        4  \n",
            "2  14.878270        4  \n",
            "3  11.903703        4  \n",
            "4  14.786210        4  \n"
          ]
        }
      ],
      "source": [
        "import pandas as pd\n",
        "import numpy as np\n",
        "\n",
        "# Set a random seed for reproducibility\n",
        "np.random.seed(42)\n",
        "\n",
        "# Number of samples\n",
        "n_samples = 2000\n",
        "\n",
        "# Generate synthetic features\n",
        "data = {\n",
        "    'fixed_acidity': np.random.uniform(5.0, 15.0, n_samples),\n",
        "    'volatile_acidity': np.random.uniform(0.02, 1.5, n_samples),\n",
        "    'citric_acid': np.random.uniform(0, 0.8, n_samples),\n",
        "    'residual_sugar': np.random.uniform(1.0, 10.0, n_samples),\n",
        "    'chlorides': np.random.uniform(0.015, 0.08, n_samples),\n",
        "    'free_sulfur_dioxide': np.random.uniform(2, 60, n_samples),\n",
        "    'total_sulfur_dioxide': np.random.uniform(10, 200, n_samples),\n",
        "    'density': np.random.uniform(0.990, 1.005, n_samples),\n",
        "    'pH': np.random.uniform(2.8, 3.8, n_samples),\n",
        "    'sulphates': np.random.uniform(0.4, 2.0, n_samples),\n",
        "    'alcohol': np.random.uniform(8.0, 15.0, n_samples)\n",
        "}\n",
        "\n",
        "# Create DataFrame\n",
        "df = pd.DataFrame(data)\n",
        "\n",
        "# Generate a quality score\n",
        "def generate_quality(row):\n",
        "    score = (row['fixed_acidity'] * 0.1 +\n",
        "             row['volatile_acidity'] * -1.2 +\n",
        "             row['citric_acid'] * 0.6 +\n",
        "             row['residual_sugar'] * 0.2 +\n",
        "             row['chlorides'] * -1.2 +\n",
        "             row['free_sulfur_dioxide'] * 0.04 +\n",
        "             row['total_sulfur_dioxide'] * 0.002 +\n",
        "             row['density'] * 5 +\n",
        "             row['pH'] * -0.8 +\n",
        "             row['sulphates'] * 0.4 +\n",
        "             row['alcohol'] * 0.6)\n",
        "    return np.clip(score, 0, 10)\n",
        "\n",
        "# Apply the function to generate wine quality\n",
        "df['quality'] = df.apply(generate_quality, axis=1)\n",
        "\n",
        "# Bin the quality scores into fewer categories\n",
        "df['quality'] = pd.cut(df['quality'], bins=5, labels=False)\n",
        "\n",
        "# Check the distribution of the quality classes\n",
        "print(df['quality'].value_counts())\n",
        "\n",
        "# Optional: Shuffle the dataset\n",
        "df = df.sample(frac=1).reset_index(drop=True)\n",
        "\n",
        "# Save the dataset to a CSV file\n",
        "df.to_csv('synthetic_wine_quality_binned.csv', index=False)\n",
        "\n",
        "# Show the first few rows of the dataset\n",
        "print(df.head())\n"
      ]
    }
  ]
}